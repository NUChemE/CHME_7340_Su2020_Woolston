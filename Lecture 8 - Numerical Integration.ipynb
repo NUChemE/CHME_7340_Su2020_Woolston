{
 "cells": [
  {
   "cell_type": "markdown",
   "metadata": {},
   "source": [
    "# Lecture 8: Numerical Integration (odeint)\n",
    "\n",
    "## CHME 7340 - Summer 2020\n",
    "\n",
    "This notebook goes through the steps involved in numerically integrating ordinary differential equations that we will see in this course that are are tricky (or impossible) to solve analytically. We use the built-in ODE solver from the scipy package, called odeint. The main advantage of this approach is that, unlike in Euler's method, which uses fixed time steps, odeint automatically adjusts the time steps. This is useful in stiff problems that have multiple different time scales. Enzymatic conversions are a good example of this, where in the first part of the reaction where  𝑆>>𝐾𝑚  conversion is linear with time and we can take large time steps, but when the substrate begins to run out  (𝑆≈𝐾𝑚) , a large time step might introduce numerical error (e.g. leading to a negative substrate concentration).\n",
    "\n",
    "**TMI:** scipy.integrate.odeint is a python wrapper around the FORTRAN function LSODA, which automatically switches between stiff and non-stiff solvers based on evaluation of eigenvalues of the Jacobian matrix. You don't get a choice in what solver gets used. If you want more control (perhaps you know something more about the behavior of your system), you can use scipy.integrate.solve_ivp instead, which allows to explicitly choose the solver you want to use. solve_ivp is newer, but at the moment is slower (at least for problems I've tried) and is less developed than odeint.\n",
    "\n",
    "First, we import the packages we need:"
   ]
  },
  {
   "cell_type": "code",
   "execution_count": 116,
   "metadata": {},
   "outputs": [],
   "source": [
    "import numpy as np\n",
    "import matplotlib.pyplot as plt\n",
    "from scipy.integrate import odeint\n",
    "#from scipy.integrate import solve_ivp (If you wanted to use solve_ivp instead)\n",
    "%matplotlib inline"
   ]
  },
  {
   "cell_type": "markdown",
   "metadata": {},
   "source": [
    "Next, we'll define the variables we will need"
   ]
  },
  {
   "cell_type": "code",
   "execution_count": 117,
   "metadata": {},
   "outputs": [],
   "source": [
    "FA0 = 0.1362 #mol/s\n",
    "k = 0.0074 #mol/kg-s (k' in text)\n",
    "alpha = 0.0367 #1/kg\n",
    "epsilon = -0.15"
   ]
  },
  {
   "cell_type": "markdown",
   "metadata": {},
   "source": [
    "Define a function that returns the relevant derivatives (dX/dW and dp/dW) given current values of the dependent (X,p) and indepdent (W) variables"
   ]
  },
  {
   "cell_type": "code",
   "execution_count": 119,
   "metadata": {},
   "outputs": [],
   "source": [
    "def deriv(current, W): #Note that we explicitly made this function of W, even though it is not used. This is required by the odeint\n",
    "    X = current[0]\n",
    "    p = current[1]\n",
    "    ra = -1.0*k*(1.0-X)/(1+epsilon*X)*p\n",
    "    dXdW = -ra/FA0\n",
    "    dpdW = -alpha*(1.0+epsilon*X)/(2.0*p)\n",
    "    return dXdW,dpdW"
   ]
  },
  {
   "cell_type": "markdown",
   "metadata": {},
   "source": [
    "Define the range of W over which we want to integrate, and the initial conditions"
   ]
  },
  {
   "cell_type": "code",
   "execution_count": 120,
   "metadata": {},
   "outputs": [],
   "source": [
    "W_range = np.linspace(0, 28, 50) #Based on problem statement\n",
    "X0 = 0 #No conversion at beginning of reactor\n",
    "p0 = 1.0 #Remember that p = P/P0\n",
    "init = [X0, p0] #Define a list of our initial conditions"
   ]
  },
  {
   "cell_type": "markdown",
   "metadata": {},
   "source": [
    "Now we call odeint to integrate our function."
   ]
  },
  {
   "cell_type": "code",
   "execution_count": 121,
   "metadata": {},
   "outputs": [],
   "source": [
    "#Now the magic: call odeint on our defined problem\n",
    "sol = odeint(deriv, init, W_range)"
   ]
  },
  {
   "cell_type": "markdown",
   "metadata": {},
   "source": [
    "**TMI:** There are a lot of additional options to make odeint more functional. We can specificy the maximum and minimum stepsize, set maximal tolerances, as well as even highlight specific ranges of t (W here) where we know the algorithm should be extra careful while integrating. Full documentation here: https://docs.scipy.org/doc/scipy/reference/generated/scipy.integrate.odeint.html"
   ]
  },
  {
   "cell_type": "code",
   "execution_count": 122,
   "metadata": {},
   "outputs": [
    {
     "data": {
      "text/plain": [
       "<matplotlib.legend.Legend at 0x20798fd7748>"
      ]
     },
     "execution_count": 122,
     "metadata": {},
     "output_type": "execute_result"
    },
    {
     "data": {
      "image/png": "[encoded data removed]",
      "text/plain": [
       "<Figure size 432x288 with 1 Axes>"
      ]
     },
     "metadata": {
      "needs_background": "light"
     },
     "output_type": "display_data"
    }
   ],
   "source": [
    "X_odeint = sol[:,0]\n",
    "P_odeint = sol[:,1]\n",
    "plt.plot(W_range, X_odeint, '*', label='X')\n",
    "plt.plot(W_range, P_odeint, '*', label='p (P/P0)')\n",
    "#We'll show a faster way of doing the above four lines below\n",
    "plt.title('X vs W')\n",
    "plt.xlabel('W (kg)')\n",
    "plt.ylabel('p or X')\n",
    "plt.legend()"
   ]
  },
  {
   "cell_type": "code",
   "execution_count": 123,
   "metadata": {},
   "outputs": [],
   "source": [
    "#Sometimes things go wrong with integration, and it's useful to track all output from the algorithm:\n",
    "sol2, info = odeint(deriv, init, W_range, full_output=1)"
   ]
  },
  {
   "cell_type": "code",
   "execution_count": 124,
   "metadata": {},
   "outputs": [],
   "source": [
    "#For example, since this is an adapative method, we could look at the actual W points that where values were calculated\n",
    "W_actual=info['tcur'] #Extract the dictionary 'tcur' from the aditional odeint data\n",
    "y = [0.2]*len(W_actual) #Generate a list of y's to add to plot to show actual timesteps"
   ]
  },
  {
   "cell_type": "code",
   "execution_count": 125,
   "metadata": {},
   "outputs": [
    {
     "data": {
      "text/plain": [
       "<matplotlib.legend.Legend at 0x207990344c8>"
      ]
     },
     "execution_count": 125,
     "metadata": {},
     "output_type": "execute_result"
    },
    {
     "data": {
      "image/png": "[encoded data removed]",
      "text/plain": [
       "<Figure size 432x288 with 1 Axes>"
      ]
     },
     "metadata": {
      "needs_background": "light"
     },
     "output_type": "display_data"
    }
   ],
   "source": [
    "X_odeint = sol[:,0]\n",
    "P_odeint = sol[:,1]\n",
    "plt.plot(W_range, X_odeint, '*', label='X')\n",
    "plt.plot(W_range, P_odeint, '*', label='p (P/P0)')\n",
    "plt.title('X vs W')\n",
    "plt.xlabel('W (kg)')\n",
    "plt.ylabel('p or X')\n",
    "#Up to this point is same as before, now adding \n",
    "plt.plot(W_actual, y, 'o', label = 'W')\n",
    "plt.legend()"
   ]
  },
  {
   "cell_type": "code",
   "execution_count": 126,
   "metadata": {},
   "outputs": [
    {
     "name": "stdout",
     "output_type": "stream",
     "text": [
      "[ 19  25  29  31  35  37  37  39  39  41  41  43  43  45  45  49  49  51\n",
      "  53  53  55  59  59  61  63  65  65  69  71  73  75  79  81  83  85  89\n",
      "  93  95  99 103 109 113 119 123 131 139 149 159 173]\n"
     ]
    }
   ],
   "source": [
    "#Exploring other data returned by odeint\n",
    "#dictionaries: tsw, nst, nfe, etc.\n",
    "print(info['nfe']) #This is the cumulative number of function evaluations"
   ]
  },
  {
   "cell_type": "code",
   "execution_count": 127,
   "metadata": {},
   "outputs": [
    {
     "data": {
      "text/plain": [
       "<matplotlib.legend.Legend at 0x20798ddaec8>"
      ]
     },
     "execution_count": 127,
     "metadata": {},
     "output_type": "execute_result"
    },
    {
     "data": {
      "image/png": "[encoded data removed]",
      "text/plain": [
       "<Figure size 432x288 with 1 Axes>"
      ]
     },
     "metadata": {
      "needs_background": "light"
     },
     "output_type": "display_data"
    }
   ],
   "source": [
    "#A faster way to plot each of the trajacetories that we solved:\n",
    "np_sol = np.asarray(sol)\n",
    "labels = ['X', 'p']\n",
    "for col in range(np_sol.shape[1]): \n",
    "    plt.plot(W_range, np_sol[:,col], label=labels[col])\n",
    "plt.legend()"
   ]
  },
  {
   "cell_type": "markdown",
   "metadata": {},
   "source": [
    "Let's look at the above code in a little more detail, since at first glance it's a little confusing. We make use of three functions here:\n",
    "\n",
    "1) **np.asarray()** converts a standard python array to a numpy array, a data type that has some very useful functions associated with it\n",
    "\n",
    "2) **array.shape()** returns the size of an array in each dimension. For a two-dimensional array, it returns the list [rows, columns]. By specifically referring to shape[1], we are returning the number of columns in the array\n",
    "\n",
    "3) **range(start,stop,step)** returns a list of numbers from start position to stop position incremented by step. Only STOP is a required argument. By default, if only STOP is given, this function returns a list from 0->stop in increments of 1. Note that because of Python's 0-indexing, position 2 is index 1, so range(2), gives us 0,1\n",
    "\n",
    "so, combining range(np_sol.shape[1]) gives us the list 0,1. \n",
    "\n",
    "The for loop we set up iterates over this range, with the variable col taking on each value. We then use that value to extract the specific column and plot it, with the associated label. The code below demonstrates the various aspects discussed here."
   ]
  },
  {
   "cell_type": "code",
   "execution_count": 128,
   "metadata": {},
   "outputs": [
    {
     "data": {
      "text/plain": [
       "(50, 2)"
      ]
     },
     "execution_count": 128,
     "metadata": {},
     "output_type": "execute_result"
    }
   ],
   "source": [
    "np_sol.shape\n",
    "#50 rows, 2 columns"
   ]
  },
  {
   "cell_type": "code",
   "execution_count": 129,
   "metadata": {},
   "outputs": [
    {
     "name": "stdout",
     "output_type": "stream",
     "text": [
      "0\n",
      "1\n"
     ]
    }
   ],
   "source": [
    "range(2)\n",
    "for n in range(2):\n",
    "  print(n)"
   ]
  },
  {
   "cell_type": "markdown",
   "metadata": {},
   "source": [
    "## A word about variable access\n",
    "In this example, we defined alpha, FA0, and other variables **globally** (outside of a specific function), e.g. they can be accessed in any function we write. This *can* be really dangerous, depending on the order cells are run within a notebook, and can have unintended consequences. Sometimes it is better to keep variables defined **locally** e.g. within a function, and then pass them off to another function when it is called. For most user-defined functions, this is straightforward, e.g.:"
   ]
  },
  {
   "cell_type": "code",
   "execution_count": 98,
   "metadata": {},
   "outputs": [
    {
     "name": "stdout",
     "output_type": "stream",
     "text": [
      "[ 0.  2.  4.  6.  8. 10. 12. 14. 16. 18. 20.]\n"
     ]
    }
   ],
   "source": [
    "def execute():\n",
    "    x = np.linspace(0,10,11)\n",
    "    x2 = multiply_by_2(x)\n",
    "    print(x2)\n",
    "    \n",
    "def multiply_by_2(x):\n",
    "    return 2.0*x\n",
    "\n",
    "execute() #Run the function loop_over_x and print the output"
   ]
  },
  {
   "cell_type": "code",
   "execution_count": 100,
   "metadata": {},
   "outputs": [
    {
     "name": "stdout",
     "output_type": "stream",
     "text": [
      "Oops, that caused an error because name 'x' is not defined\n"
     ]
    }
   ],
   "source": [
    "#But now if I try to access x\n",
    "try:\n",
    "    print(x)\n",
    "except Exception as e:\n",
    "    print(\"Oops, that caused an error because \", str(e))"
   ]
  },
  {
   "cell_type": "markdown",
   "metadata": {},
   "source": [
    "This is a **good thing**, because you can't accidentally change the definition of x in \"execute\" in another function that you write. \n",
    "\n",
    "One annoying exception to this simplicity is when using odeint (and other built-in functions) to pass things like FA0 and alpha to your derivative function. Let's take the toy example:\n",
    "$$\\frac{dX}{dt}=AX^b$$"
   ]
  },
  {
   "cell_type": "code",
   "execution_count": 105,
   "metadata": {},
   "outputs": [],
   "source": [
    "def deriv(X,t,a,b):\n",
    "    #If I want the calling function to control a and b, I can't define them here!\n",
    "    dXdt = a*X**b\n",
    "    return dXdt"
   ]
  },
  {
   "cell_type": "code",
   "execution_count": 115,
   "metadata": {},
   "outputs": [
    {
     "data": {
      "image/png": "[encoded data removed]",
      "text/plain": [
       "<Figure size 432x288 with 1 Axes>"
      ]
     },
     "metadata": {
      "needs_background": "light"
     },
     "output_type": "display_data"
    }
   ],
   "source": [
    "def run_solver(a,b):\n",
    "    X0 = 1.0\n",
    "    t_range = np.linspace(0, 3.0, 50)\n",
    "    sol = odeint(deriv,X0, t_range, args=(a,b)) #Note the syntax and use of \"args\" here. The parentheses indicate these values are tuples (immutable)\n",
    "    plt.plot(t_range,sol[:,0])\n",
    "\n",
    "for a in np.linspace(0.4, 1.0, 3):\n",
    "    run_solver(a,1.0)\n",
    "\n",
    "    #This is a cleaner way to input variables into your derivative function"
   ]
  },
  {
   "cell_type": "code",
   "execution_count": null,
   "metadata": {},
   "outputs": [],
   "source": []
  }
 ],
 "metadata": {
  "kernelspec": {
   "display_name": "Python 3",
   "language": "python",
   "name": "python3"
  },
  "language_info": {
   "codemirror_mode": {
    "name": "ipython",
    "version": 3
   },
   "file_extension": ".py",
   "mimetype": "text/x-python",
   "name": "python",
   "nbconvert_exporter": "python",
   "pygments_lexer": "ipython3",
   "version": "3.7.6"
  }
 },
 "nbformat": 4,
 "nbformat_minor": 4
}
