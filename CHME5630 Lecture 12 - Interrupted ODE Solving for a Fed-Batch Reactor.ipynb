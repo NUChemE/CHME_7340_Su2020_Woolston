{
 "cells": [
  {
   "cell_type": "code",
   "execution_count": null,
   "metadata": {},
   "outputs": [],
   "source": []
  },
  {
   "cell_type": "markdown",
   "metadata": {},
   "source": [
    "## Lecture 12: Fed-Batch Reactor Simulation\n",
    "## CHME 5630 - Spring 2020\n",
    "This notebook goes through the steps involved in simulating a fed-batch reactor, integrating the system of ODE's derived from the material balances. What makes this more difficult than previous examples of numerical integration is that the run is spearated into two parts: the batch, and then the feed. Since we do not know *a priori* when the batch will end, we need our ODE solver to be able to report this. *odeint* is incapable of this, and so we will be using a more recently developed function, **solve_ivp**\n",
    "\n",
    "Documentation: https://docs.scipy.org/doc/scipy/reference/generated/scipy.integrate.solve_ivp.html\n",
    "\n",
    "Structurally, *solve_ivp* is similar to *odeint*, but includes several extra features, including the ability to process *events*. It is this feature we will use to determine when the batch fermentation has ended (by reporting substrate running out), ending the integration for the first phase, and starting the integration of the fed phase.\n",
    "\n",
    "First, we import the packages we need:"
   ]
  },
  {
   "cell_type": "code",
   "execution_count": 1,
   "metadata": {},
   "outputs": [],
   "source": [
    "import numpy as np\n",
    "import matplotlib.pyplot as plt\n",
    "from scipy.integrate import solve_ivp\n",
    "%matplotlib inline"
   ]
  },
  {
   "cell_type": "markdown",
   "metadata": {},
   "source": [
    "Next, we'll define the variables we will need, starting with the kinetic and process parameters"
   ]
  },
  {
   "cell_type": "code",
   "execution_count": 2,
   "metadata": {},
   "outputs": [],
   "source": [
    "mu_max = 0.89 # 1/hr\n",
    "Ks_glucose = 0.1 #g/L\n",
    "Ks_oxygen = 0.05 #mmol/L\n",
    "Y_X_S = 0.4 #gdw/g glucose\n",
    "Y_X_O2 = 0.1#0.032 #gdw/mmol O2\n",
    "Q_O2 = 0#19.8 #mmol O2/hr\n",
    "kLa = 800.0 #1/hr\n",
    "PO2 = 1.0 #atm\n",
    "kH = 756.7 #l-atm/mol\n",
    "C_eq = PO2/kH * 1000.0 #mmol/L\n",
    "gluc_feed = 100.0 #g/L\n",
    "feed_rate = 2.0 #l/hr"
   ]
  },
  {
   "cell_type": "markdown",
   "metadata": {},
   "source": [
    "Now we define our derivative functions (one each for cells, substrate, and O2), which we get from the mass balances,\n",
    "\n",
    "$$\\frac{dX}{dt}=\\frac{X(V\\mu-\\frac{dV}{dt})}{V}$$\n",
    "\n",
    "$$\\frac{dS}{dt}=\\frac{FS_{feed}-\\frac{XV\\mu }{Y_{X/S}}-S\\frac{dV}{dt}}{V}$$\n",
    "\n",
    "$$\\frac{dO2}{dt}=\\frac{k_La(C_{eq}-O_2)-\\frac{XV\\mu }{Y_{X/O2}}-XVq_{O2}-O_2\\frac{dV}{dt}}{V}$$\n",
    "\n",
    "Remember that $\\mu$ is a function of S and O2, according to:\n",
    "\n",
    "$$\\mu = \\mu_{max}\\frac{S}{K_S+S}\\frac{O_2}{K_S+O_2}$$\n",
    "\n",
    "We also need to define our feed rate as a piecewise function. Before the initial substrate depletion, there is no feed, and \n",
    "\n",
    "$$\\frac{dV}{dt}=0$$.\n",
    "\n",
    "After the substrate is depleted, the pump will be turned on at a constant rate (F), such that \n",
    "\n",
    "$$\\frac{dV}{dt}=F$$"
   ]
  },
  {
   "cell_type": "code",
   "execution_count": 3,
   "metadata": {},
   "outputs": [],
   "source": [
    "def deriv(t, y): #Note that, compared to odeint, the dydt function input is reversed as it takes t as the first argument and y as the second\n",
    "    V = y[0]\n",
    "    X = y[1]\n",
    "    S = y[2]\n",
    "    O2 = y[3]\n",
    "    \n",
    "    mu = mu_max * S / (Ks_glucose + S) * O2 / (Ks_oxygen + O2) #Calculate mu once, since it is used in all the balances\n",
    "    \n",
    "    F = F_on*feed_rate #F_on is a binary value assigned elsewhere that dictates whether there is feed or not. feed_rate defines the flow rate of the pump when it is turned on\n",
    "    \n",
    "    dVdt = F    \n",
    "    dXdt = (X * V * mu - X * dVdt) / V\n",
    "    dSdt = (F * gluc_feed - X * V * mu / Y_X_S - S * dVdt) / V\n",
    "    dO2dt = (kLa* (C_eq - O2) - Q_O2 * X * V - X * V * mu / Y_X_O2 - O2 * dVdt) / V\n",
    "    \n",
    "    return dVdt, dXdt, dSdt, dO2dt"
   ]
  },
  {
   "cell_type": "markdown",
   "metadata": {},
   "source": [
    "The syntax for solve_ivp is similar to odeint, with a couple of major exceptions:\n",
    "\n",
    "1) The order of arguments is different. The derivative function comes before the time span. \n",
    "\n",
    "2) The timespan is just a tuple with a start and end, rather than a defined list of time points\n",
    "\n",
    "We define one (or more) event functions that the solver will continually monitor. These can be **any** function of y and t, and may or may not lead to termination of the solver."
   ]
  },
  {
   "cell_type": "code",
   "execution_count": 4,
   "metadata": {},
   "outputs": [],
   "source": [
    "#Define initial conditions\n",
    "V0 = 10.0 #L\n",
    "X0 = 0.2 #g/L\n",
    "S0 = 20 #g/L\n",
    "O20 = C_eq\n",
    "y0 = [V0, X0, S0, O20] #Define our initial conditions\n",
    "\n",
    "S_threshold = 0.01 #Set the threshold below which it is considered that the reactor has run out of substrate\n",
    "\n",
    "def out_of_substrate(t, y): return y[2]-S_threshold #Define the event function to find the zeros (e.g. values of t) where y[2]-S_threshold = 0, e.g. the first time point where substrate goes below s_threshold\n",
    "out_of_substrate.terminal = True #In this case, the event triggers termination of the ode solver. This is optional, and you could have the solver keep going.\n",
    "\n",
    "#Integrate the ode, triggering termination when substrate hits the pre-determined threshold\n",
    "F_on = 0.0 #The binary value mentioned earlier for controlling flow\n",
    "sol = solve_ivp(deriv, (0,5), y0, events=out_of_substrate)\n"
   ]
  },
  {
   "cell_type": "markdown",
   "metadata": {},
   "source": [
    "The output from *solve_ivp* looks quite different structurally than from *odeint*. Take a look at all the different data recorded in the sol object that you can later extract:"
   ]
  },
  {
   "cell_type": "code",
   "execution_count": 10,
   "metadata": {},
   "outputs": [
    {
     "data": {
      "text/plain": [
       "  message: 'A termination event occurred.'\n",
       "     nfev: 890\n",
       "     njev: 0\n",
       "      nlu: 0\n",
       "      sol: None\n",
       "   status: 1\n",
       "  success: True\n",
       "        t: array([0.        , 0.02456289, 0.05143214, 0.0890267 , 0.13964845,\n",
       "       0.18078684, 0.22394944, 0.26711204, 0.30570153, 0.34502703,\n",
       "       0.38751266, 0.43196765, 0.47085204, 0.51063486, 0.55320127,\n",
       "       0.59719853, 0.63615954, 0.67593527, 0.71840308, 0.7623147 ,\n",
       "       0.80138493, 0.8412403 , 0.88364981, 0.92741121, 0.96657293,\n",
       "       1.00648235, 1.04882844, 1.09246251, 1.13170869, 1.1716697 ,\n",
       "       1.21395587, 1.25746637, 1.30097688, 1.33779057, 1.37564616,\n",
       "       1.41864494, 1.46519402, 1.50267252, 1.54157034, 1.58479895,\n",
       "       1.63029233, 1.66789545, 1.70674027, 1.74975883, 1.79510536,\n",
       "       1.83290667, 1.87190118, 1.91481169, 1.95985862, 1.99781007,\n",
       "       2.0368886 , 2.07967774, 2.12448483, 2.16256599, 2.20171985,\n",
       "       2.24439528, 2.28897235, 2.32715805, 2.36636688, 2.40892923,\n",
       "       2.45329127, 2.49155693, 2.53080186, 2.57325031, 2.61740657,\n",
       "       2.6557256 , 2.69498533, 2.73731607, 2.78127233, 2.81961493,\n",
       "       2.858865  , 2.90107085, 2.94482856, 2.98315964, 3.0223706 ,\n",
       "       3.06443991, 3.1079954 , 3.1462718 , 3.18540675, 3.22732174,\n",
       "       3.27066463, 3.30883102, 3.34784193, 3.38957611, 3.43268651,\n",
       "       3.47066914, 3.50949122, 3.55100508, 3.59384871, 3.63154566,\n",
       "       3.67008859, 3.71132233, 3.75384118, 3.79110684, 3.82924045,\n",
       "       3.8701004 , 3.91219264, 3.94881115, 3.98634057, 4.02666809,\n",
       "       4.06812919, 4.10375353, 4.14036001, 4.17981212, 4.22003478,\n",
       "       4.25380576, 4.28868679, 4.32562719, 4.35574219, 4.38316999,\n",
       "       4.40463046, 4.41955172, 4.42559337, 4.43193049, 4.43595342])\n",
       " t_events: [array([4.43595342])]\n",
       "        y: array([[1.00000000e+01, 1.00000000e+01, 1.00000000e+01, 1.00000000e+01,\n",
       "        1.00000000e+01, 1.00000000e+01, 1.00000000e+01, 1.00000000e+01,\n",
       "        1.00000000e+01, 1.00000000e+01, 1.00000000e+01, 1.00000000e+01,\n",
       "        1.00000000e+01, 1.00000000e+01, 1.00000000e+01, 1.00000000e+01,\n",
       "        1.00000000e+01, 1.00000000e+01, 1.00000000e+01, 1.00000000e+01,\n",
       "        1.00000000e+01, 1.00000000e+01, 1.00000000e+01, 1.00000000e+01,\n",
       "        1.00000000e+01, 1.00000000e+01, 1.00000000e+01, 1.00000000e+01,\n",
       "        1.00000000e+01, 1.00000000e+01, 1.00000000e+01, 1.00000000e+01,\n",
       "        1.00000000e+01, 1.00000000e+01, 1.00000000e+01, 1.00000000e+01,\n",
       "        1.00000000e+01, 1.00000000e+01, 1.00000000e+01, 1.00000000e+01,\n",
       "        1.00000000e+01, 1.00000000e+01, 1.00000000e+01, 1.00000000e+01,\n",
       "        1.00000000e+01, 1.00000000e+01, 1.00000000e+01, 1.00000000e+01,\n",
       "        1.00000000e+01, 1.00000000e+01, 1.00000000e+01, 1.00000000e+01,\n",
       "        1.00000000e+01, 1.00000000e+01, 1.00000000e+01, 1.00000000e+01,\n",
       "        1.00000000e+01, 1.00000000e+01, 1.00000000e+01, 1.00000000e+01,\n",
       "        1.00000000e+01, 1.00000000e+01, 1.00000000e+01, 1.00000000e+01,\n",
       "        1.00000000e+01, 1.00000000e+01, 1.00000000e+01, 1.00000000e+01,\n",
       "        1.00000000e+01, 1.00000000e+01, 1.00000000e+01, 1.00000000e+01,\n",
       "        1.00000000e+01, 1.00000000e+01, 1.00000000e+01, 1.00000000e+01,\n",
       "        1.00000000e+01, 1.00000000e+01, 1.00000000e+01, 1.00000000e+01,\n",
       "        1.00000000e+01, 1.00000000e+01, 1.00000000e+01, 1.00000000e+01,\n",
       "        1.00000000e+01, 1.00000000e+01, 1.00000000e+01, 1.00000000e+01,\n",
       "        1.00000000e+01, 1.00000000e+01, 1.00000000e+01, 1.00000000e+01,\n",
       "        1.00000000e+01, 1.00000000e+01, 1.00000000e+01, 1.00000000e+01,\n",
       "        1.00000000e+01, 1.00000000e+01, 1.00000000e+01, 1.00000000e+01,\n",
       "        1.00000000e+01, 1.00000000e+01, 1.00000000e+01, 1.00000000e+01,\n",
       "        1.00000000e+01, 1.00000000e+01, 1.00000000e+01, 1.00000000e+01,\n",
       "        1.00000000e+01, 1.00000000e+01, 1.00000000e+01, 1.00000000e+01,\n",
       "        1.00000000e+01, 1.00000000e+01, 1.00000000e+01],\n",
       "       [2.00000000e-01, 2.04234618e-01, 2.08968486e-01, 2.15776279e-01,\n",
       "        2.25294408e-01, 2.33337629e-01, 2.42085184e-01, 2.51160366e-01,\n",
       "        2.59561523e-01, 2.68411758e-01, 2.78312205e-01, 2.89062297e-01,\n",
       "        2.98804957e-01, 3.09112225e-01, 3.20534216e-01, 3.32783320e-01,\n",
       "        3.44020162e-01, 3.55882922e-01, 3.68999764e-01, 3.83070366e-01,\n",
       "        3.96039564e-01, 4.09721156e-01, 4.24798067e-01, 4.40936405e-01,\n",
       "        4.55896881e-01, 4.71664343e-01, 4.88990012e-01, 5.07507303e-01,\n",
       "        5.24759697e-01, 5.42927749e-01, 5.62836780e-01, 5.84082810e-01,\n",
       "        6.06128921e-01, 6.25429312e-01, 6.45915239e-01, 6.69997278e-01,\n",
       "        6.97077871e-01, 7.19673110e-01, 7.43896436e-01, 7.71771329e-01,\n",
       "        8.02231547e-01, 8.28311799e-01, 8.56140625e-01, 8.88047756e-01,\n",
       "        9.22964746e-01, 9.53115337e-01, 9.85245650e-01, 1.02185023e+00,\n",
       "        1.06173464e+00, 1.09653759e+00, 1.13356070e+00, 1.17552701e+00,\n",
       "        1.22112973e+00, 1.26126818e+00, 1.30390526e+00, 1.35201038e+00,\n",
       "        1.40414314e+00, 1.45038723e+00, 1.49944456e+00, 1.55456408e+00,\n",
       "        1.61415548e+00, 1.66737605e+00, 1.72376669e+00, 1.78689064e+00,\n",
       "        1.85498606e+00, 1.91616050e+00, 1.98090874e+00, 2.05314945e+00,\n",
       "        2.13092306e+00, 2.20113981e+00, 2.27538654e+00, 2.35798560e+00,\n",
       "        2.44674647e+00, 2.52720370e+00, 2.61220536e+00, 2.70653518e+00,\n",
       "        2.80772843e+00, 2.89972280e+00, 2.99684023e+00, 3.10439621e+00,\n",
       "        3.21959328e+00, 3.32449098e+00, 3.43516022e+00, 3.55753559e+00,\n",
       "        3.68840453e+00, 3.80758110e+00, 3.93325218e+00, 4.07208140e+00,\n",
       "        4.22031973e+00, 4.35504484e+00, 4.49706354e+00, 4.65390687e+00,\n",
       "        4.82110079e+00, 4.97232331e+00, 5.13170792e+00, 5.30781806e+00,\n",
       "        5.49513907e+00, 5.66307810e+00, 5.84008374e+00, 6.03588787e+00,\n",
       "        6.24332117e+00, 6.42655513e+00, 6.61964993e+00, 6.83315189e+00,\n",
       "        7.05641063e+00, 7.24794104e+00, 7.44914529e+00, 7.66477212e+00,\n",
       "        7.84045504e+00, 7.99622256e+00, 8.10734946e+00, 8.16706731e+00,\n",
       "        8.18272312e+00, 8.19260288e+00, 8.19600000e+00],\n",
       "       [2.00000000e+01, 1.99894135e+01, 1.99775788e+01, 1.99605593e+01,\n",
       "        1.99367640e+01, 1.99166559e+01, 1.98947870e+01, 1.98720991e+01,\n",
       "        1.98510962e+01, 1.98289706e+01, 1.98042195e+01, 1.97773443e+01,\n",
       "        1.97529876e+01, 1.97272194e+01, 1.96986645e+01, 1.96680417e+01,\n",
       "        1.96399496e+01, 1.96102927e+01, 1.95775006e+01, 1.95423241e+01,\n",
       "        1.95099011e+01, 1.94756971e+01, 1.94380048e+01, 1.93976590e+01,\n",
       "        1.93602578e+01, 1.93208391e+01, 1.92775250e+01, 1.92312317e+01,\n",
       "        1.91881008e+01, 1.91426806e+01, 1.90929080e+01, 1.90397930e+01,\n",
       "        1.89846777e+01, 1.89364267e+01, 1.88852119e+01, 1.88250068e+01,\n",
       "        1.87573053e+01, 1.87008172e+01, 1.86402589e+01, 1.85705717e+01,\n",
       "        1.84944211e+01, 1.84292205e+01, 1.83596484e+01, 1.82798806e+01,\n",
       "        1.81925881e+01, 1.81172117e+01, 1.80368859e+01, 1.79453744e+01,\n",
       "        1.78456634e+01, 1.77586560e+01, 1.76660982e+01, 1.75611825e+01,\n",
       "        1.74471757e+01, 1.73468295e+01, 1.72402369e+01, 1.71199740e+01,\n",
       "        1.69896421e+01, 1.68740319e+01, 1.67513886e+01, 1.66135898e+01,\n",
       "        1.64646113e+01, 1.63315599e+01, 1.61905833e+01, 1.60327734e+01,\n",
       "        1.58625348e+01, 1.57095987e+01, 1.55477282e+01, 1.53671264e+01,\n",
       "        1.51726924e+01, 1.49971505e+01, 1.48115336e+01, 1.46050360e+01,\n",
       "        1.43831338e+01, 1.41819908e+01, 1.39694866e+01, 1.37336621e+01,\n",
       "        1.34806789e+01, 1.32506930e+01, 1.30078994e+01, 1.27390095e+01,\n",
       "        1.24510168e+01, 1.21887726e+01, 1.19120994e+01, 1.16061610e+01,\n",
       "        1.12789887e+01, 1.09810473e+01, 1.06668695e+01, 1.03197965e+01,\n",
       "        9.94920068e+00, 9.61238789e+00, 9.25734116e+00, 8.86523283e+00,\n",
       "        8.44724804e+00, 8.06919172e+00, 7.67073021e+00, 7.23045485e+00,\n",
       "        6.76215232e+00, 6.34230474e+00, 5.89979065e+00, 5.41028034e+00,\n",
       "        4.89169708e+00, 4.43361217e+00, 3.95087518e+00, 3.41712027e+00,\n",
       "        2.85897342e+00, 2.38014741e+00, 1.87713677e+00, 1.33806970e+00,\n",
       "        8.98862403e-01, 5.09443596e-01, 2.31626343e-01, 8.23317219e-02,\n",
       "        4.31922039e-02, 1.84927897e-02, 1.00000000e-02],\n",
       "       [1.32152769e+00, 1.30365784e+00, 1.30013741e+00, 1.29914382e+00,\n",
       "        1.29910436e+00, 1.29822474e+00, 1.29770828e+00, 1.29728363e+00,\n",
       "        1.29565432e+00, 1.29434153e+00, 1.29351031e+00, 1.29314356e+00,\n",
       "        1.29148636e+00, 1.29010716e+00, 1.28914353e+00, 1.28852838e+00,\n",
       "        1.28673549e+00, 1.28519057e+00, 1.28403186e+00, 1.28319831e+00,\n",
       "        1.28125942e+00, 1.27953893e+00, 1.27816705e+00, 1.27707909e+00,\n",
       "        1.27496140e+00, 1.27303323e+00, 1.27141648e+00, 1.27004664e+00,\n",
       "        1.26771743e+00, 1.26554911e+00, 1.26365335e+00, 1.26196682e+00,\n",
       "        1.26040957e+00, 1.25706551e+00, 1.25435688e+00, 1.25207368e+00,\n",
       "        1.25045504e+00, 1.24708826e+00, 1.24415754e+00, 1.24154751e+00,\n",
       "        1.23940274e+00, 1.23570724e+00, 1.23239013e+00, 1.22932869e+00,\n",
       "        1.22666113e+00, 1.22261905e+00, 1.21888027e+00, 1.21532152e+00,\n",
       "        1.21206345e+00, 1.20759779e+00, 1.20336840e+00, 1.19924073e+00,\n",
       "        1.19532784e+00, 1.19036530e+00, 1.18557319e+00, 1.18079956e+00,\n",
       "        1.17615496e+00, 1.17061268e+00, 1.16517611e+00, 1.15966943e+00,\n",
       "        1.15420603e+00, 1.14799326e+00, 1.14182149e+00, 1.13548490e+00,\n",
       "        1.12910476e+00, 1.12212219e+00, 1.11511528e+00, 1.10784201e+00,\n",
       "        1.10043660e+00, 1.09257688e+00, 1.08462633e+00, 1.07630043e+00,\n",
       "        1.06775171e+00, 1.05890099e+00, 1.04989170e+00, 1.04039006e+00,\n",
       "        1.03057305e+00, 1.02061445e+00, 1.01042871e+00, 9.99625461e-01,\n",
       "        9.88413533e-01, 9.77234079e-01, 9.65759334e-01, 9.53534380e-01,\n",
       "        9.40809551e-01, 9.28313090e-01, 9.15456553e-01, 9.01712036e-01,\n",
       "        8.87384926e-01, 8.73516401e-01, 8.59232797e-01, 8.43925537e-01,\n",
       "        8.27975810e-01, 8.12768902e-01, 7.97116672e-01, 7.80328289e-01,\n",
       "        7.62896784e-01, 7.46579616e-01, 7.29854207e-01, 7.11977295e-01,\n",
       "        6.93635972e-01, 6.76946515e-01, 6.60132411e-01, 6.42629399e-01,\n",
       "        6.25685624e-01, 6.11642388e-01, 5.99610975e-01, 5.92170561e-01,\n",
       "        5.94143643e-01, 6.15761748e-01, 6.75527704e-01, 7.91023745e-01,\n",
       "        8.72158535e-01, 9.75465798e-01, 1.04203964e+00]])"
      ]
     },
     "execution_count": 10,
     "metadata": {},
     "output_type": "execute_result"
    }
   ],
   "source": [
    "sol"
   ]
  },
  {
   "cell_type": "code",
   "execution_count": null,
   "metadata": {},
   "outputs": [],
   "source": [
    "#Convert the solution to a standard numpy array\n",
    "np_sol = np.asarray(sol.y)"
   ]
  },
  {
   "cell_type": "code",
   "execution_count": 5,
   "metadata": {},
   "outputs": [
    {
     "data": {
      "text/plain": [
       "4.43595342478025"
      ]
     },
     "execution_count": 5,
     "metadata": {},
     "output_type": "execute_result"
    }
   ],
   "source": [
    "#Store the time at which the event was triggered\n",
    "t_out_of_substrate = float(sol.t_events[0])\n",
    "t_out_of_substrate"
   ]
  },
  {
   "cell_type": "code",
   "execution_count": 6,
   "metadata": {},
   "outputs": [],
   "source": [
    "#Integrate the ODE from the time determined above, now with a feed\n",
    "\n",
    "init_feed = np_sol[:,-1] #Set the end of the previous simulation as the start point for the next one\n",
    "\n",
    "F_on = 1.0\n",
    "sol_feed = solve_ivp(deriv, (t_out_of_substrate,10), init_feed)"
   ]
  },
  {
   "cell_type": "code",
   "execution_count": 7,
   "metadata": {},
   "outputs": [],
   "source": [
    "#Combine both solutions\n",
    "np_sol_feed = np.asarray(sol_feed.y)\n",
    "np_sol_total = np.concatenate((np_sol, np_sol_feed), 1) #Concatenate the two parts of the simulation together\n",
    "t_feed = sol_feed.t\n",
    "t_total = np.concatenate((sol.t, t_feed))"
   ]
  },
  {
   "cell_type": "code",
   "execution_count": 12,
   "metadata": {},
   "outputs": [
    {
     "data": {
      "image/png": "[encoded data removed]",
      "text/plain": [
       "<Figure size 432x288 with 1 Axes>"
      ]
     },
     "metadata": {
      "needs_background": "light"
     },
     "output_type": "display_data"
    }
   ],
   "source": [
    "#Plot the data\n",
    "for i in range (0,4):\n",
    "    plt.plot(t_total, np_sol_total[i,:])"
   ]
  },
  {
   "cell_type": "markdown",
   "metadata": {},
   "source": [
    "If we plot the DO concentration independently, we can very clearly see the DO spike typical of a fed-batch reactor"
   ]
  },
  {
   "cell_type": "code",
   "execution_count": 9,
   "metadata": {},
   "outputs": [
    {
     "data": {
      "text/plain": [
       "[<matplotlib.lines.Line2D at 0x1bffefb6508>]"
      ]
     },
     "execution_count": 9,
     "metadata": {},
     "output_type": "execute_result"
    },
    {
     "data": {
      "image/png": "[encoded data removed]",
      "text/plain": [
       "<Figure size 432x288 with 1 Axes>"
      ]
     },
     "metadata": {
      "needs_background": "light"
     },
     "output_type": "display_data"
    }
   ],
   "source": [
    "plt.plot(t_total, np_sol_total[3,:]/C_eq)"
   ]
  },
  {
   "cell_type": "code",
   "execution_count": null,
   "metadata": {},
   "outputs": [],
   "source": []
  },
  {
   "cell_type": "code",
   "execution_count": null,
   "metadata": {},
   "outputs": [],
   "source": []
  }
 ],
 "metadata": {
  "kernelspec": {
   "display_name": "Python 3",
   "language": "python",
   "name": "python3"
  },
  "language_info": {
   "codemirror_mode": {
    "name": "ipython",
    "version": 3
   },
   "file_extension": ".py",
   "mimetype": "text/x-python",
   "name": "python",
   "nbconvert_exporter": "python",
   "pygments_lexer": "ipython3",
   "version": "3.7.4"
  }
 },
 "nbformat": 4,
 "nbformat_minor": 2
}
