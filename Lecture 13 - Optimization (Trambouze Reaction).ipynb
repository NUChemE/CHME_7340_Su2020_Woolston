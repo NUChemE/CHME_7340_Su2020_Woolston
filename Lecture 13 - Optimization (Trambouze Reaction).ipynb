{
 "cells": [
  {
   "cell_type": "markdown",
   "metadata": {},
   "source": [
    "# Lecture 13 - Optimizing Selectivity\n",
    "### This notebook first walks through the steps of finding an optimum reactant concentration that maximizes instantaneous specificity to a desired product in a network of competing reactions, using scipy.optimize.minimize. It then shows the impact of various reactor design choices on overall selectivity.\n",
    "\n",
    "We focus our discussion around the Trambouze reaction network\n",
    "1. A --> X (0 order in A) k1 = 0.0001 mol/L-s\n",
    "2.  A --> B (1st order in A) k2 = 0.0015 1/s\n",
    "3.  A --> Y (2nd order in A) k3 = 0.008 (L/mol-s)^2\n",
    "\n",
    "B is the desired product, and we wish to know what concentration of A maximizes the instantaneous selectivity, defined as:\n",
    "\n",
    "$$\\frac{r_2}{r_1+r_3}$$\n",
    "\n",
    "where i refers to the reaction number. Earlier in class we derived an analytical solution to this problem by writing the rate equation for each reaction, using that to write an expression for the selectivity, and finding the maximum by setting the derivative equal to 0 and solving for the associated $C_A$. Because not all problems of this nature will have a nice analytical solution, here we will use numerical optimization using the scipy.optimize package to find that same $C_A$."
   ]
  },
  {
   "cell_type": "code",
   "execution_count": null,
   "metadata": {},
   "outputs": [],
   "source": [
    "import numpy as np\n",
    "from matplotlib import pyplot as plt\n",
    "from scipy.optimize import minimize_scalar #There are two commonly used optimization functions, depending whether your function of inters returns a scalar or a vector.\n",
    "from scipy.optimize import minimize\n",
    "%matplotlib inline"
   ]
  },
  {
   "cell_type": "code",
   "execution_count": null,
   "metadata": {},
   "outputs": [],
   "source": [
    "T0 = 300 #K\n",
    "k1 = 0.0001\n",
    "k2 = 0.0015\n",
    "k3 = 0.008"
   ]
  },
  {
   "cell_type": "markdown",
   "metadata": {},
   "source": [
    "#### Define function to calculate selectivity"
   ]
  },
  {
   "cell_type": "code",
   "execution_count": null,
   "metadata": {},
   "outputs": [],
   "source": [
    "#Define a function that returns the selectivity for a given CA\n",
    "def trambouze_selectivity(CA, k1, k2, k3):\n",
    "    C = np.array([CA, CA, CA])\n",
    "    k = np.array([k1, k2, k3])\n",
    "    order = np.array([0, 1, 2])\n",
    "    rate = k*C**order #Calculate the rates in an array\n",
    "    selectivity = rate[1]/(rate[0]+rate[2])  #Definition of instantaneous selectivity\n",
    "    return -1*selectivity #Here we are returning -1*selectivity, since minimizing the negative is the same as maximizing the positive"
   ]
  },
  {
   "cell_type": "code",
   "execution_count": null,
   "metadata": {},
   "outputs": [],
   "source": [
    "#Test the function\n",
    "trambouze_selectivity(0.2, k1, k2, k3)"
   ]
  },
  {
   "cell_type": "markdown",
   "metadata": {},
   "source": [
    "### Optimizatin using scipy.optimize.minimize_scalar\n",
    "Since our function is only of one variable, we can use the scalar version of the minimize algorithm. If we were trying to find optimal values of more than one variable, we would use the vector version, as shown later in this demo.\n",
    "\n",
    "#### Plot selectivity over a reasonable range of concentrations"
   ]
  },
  {
   "cell_type": "code",
   "execution_count": null,
   "metadata": {},
   "outputs": [],
   "source": [
    "#Plot selectivity vs CA over a reasonable range\n",
    "CA_range = np.linspace(0, 0.5, 50)\n",
    "selectivity = np.zeros(len(CA_range))\n",
    "#Use a for loop to calculate the selectivity at each CA in CA_range (this could probably be vectorized, but this is OK for now)\n",
    "for i in range(len(CA_range)):\n",
    "        selectivity[i] = trambouze_selectivity(CA_range[i], k1, k2, k3)\n",
    " \n",
    "#Plot the results\n",
    "plt.plot(CA_range, -1*selectivity)\n",
    "plt.xlabel(r'$C_A$ (M)')\n",
    "plt.ylabel('Selectivity')"
   ]
  },
  {
   "cell_type": "markdown",
   "metadata": {},
   "source": [
    "#### Use minimize_scalar from scipy.optimize to find the value of CA that minimizes our function\n",
    "Additional documentation: https://docs.scipy.org/doc/scipy/reference/generated/scipy.optimize.minimize_scalar.html"
   ]
  },
  {
   "cell_type": "code",
   "execution_count": null,
   "metadata": {},
   "outputs": [],
   "source": [
    "#Here we call the function minimize_scalar, which at a minimum requries the function to be minized.\n",
    "#It can also take additional arguments, such as an initial guess, and a tuple of arguments to pass to the function\n",
    "CA_opt = minimize_scalar(trambouze_selectivity, args = (k1, k2, k3))"
   ]
  },
  {
   "cell_type": "code",
   "execution_count": null,
   "metadata": {
    "scrolled": true
   },
   "outputs": [],
   "source": [
    "#THe object returned, CA_opt, deserves some attention\n",
    "CA_opt"
   ]
  },
  {
   "cell_type": "code",
   "execution_count": null,
   "metadata": {
    "scrolled": true
   },
   "outputs": [],
   "source": [
    "#To extract the optimum x value\n",
    "CA_opt.x"
   ]
  },
  {
   "cell_type": "code",
   "execution_count": null,
   "metadata": {},
   "outputs": [],
   "source": [
    "#To extract the value of the function at that point\n",
    "CA_opt.fun"
   ]
  },
  {
   "cell_type": "code",
   "execution_count": null,
   "metadata": {
    "scrolled": true
   },
   "outputs": [],
   "source": [
    "#Use these to overlay our optimum on the plot\n",
    "\n",
    "#Plot the originaa data\n",
    "plt.plot(CA_range, -1*selectivity)\n",
    "\n",
    "#Overlay\n",
    "plt.scatter(CA_opt.x, -1*CA_opt.fun, color = 'k')"
   ]
  },
  {
   "cell_type": "markdown",
   "metadata": {},
   "source": [
    "### Optimization of functions that take a vector input"
   ]
  },
  {
   "cell_type": "markdown",
   "metadata": {},
   "source": [
    "We could also have use the vectorized version of the function. It's a little silly in this example because we're only optimizing one variable (CA), but in cases where you want to SIMULTANEOUSLY optimize multiple parameters - e.g. let's say you had a rate law that depended on CA and CB - this form will allow you to do that by passsing them in as a vector [CA, CB]"
   ]
  },
  {
   "cell_type": "code",
   "execution_count": null,
   "metadata": {},
   "outputs": [],
   "source": [
    "#Define a function that returns the selectivity for a given CA\n",
    "#Note we've also defined hte ability to take CB, even though it's not actually used here, for demonstration purposes.\n",
    "def selectivity_vector(C, k1, k2, k3):\n",
    "    CA = C[0]\n",
    "    CB = C[1]\n",
    "    selectivity = k2*CA/(k1+k3*CA**2)  #Definition of instantaneous selectivity\n",
    "    return -1*selectivity #Here we are returning -1*selectivity, since minimizing the negative is the same as maximizing the positive"
   ]
  },
  {
   "cell_type": "code",
   "execution_count": null,
   "metadata": {},
   "outputs": [],
   "source": [
    "#Here we call the function minimize_scalar, which at a minimum requries the function to be minized.\n",
    "#It can also take additional arguments, such as an initial guess, and a tuple of arguments to pass to the function\n",
    "CA_opt_vector = minimize(selectivity_vector, x0 = [0.2, 0.1], args = (k1, k2, k3))"
   ]
  },
  {
   "cell_type": "code",
   "execution_count": null,
   "metadata": {},
   "outputs": [],
   "source": [
    "CA_opt_vector"
   ]
  },
  {
   "cell_type": "markdown",
   "metadata": {},
   "source": [
    "### Reactor Design Considerations"
   ]
  },
  {
   "cell_type": "markdown",
   "metadata": {},
   "source": [
    "In class we discussed how to maximize *overall* selectivity by choosing the correct reactor. We said that the optimal selectivity would be achieved by using a CSTR sized such that effluent concentration was equal to the concentration that gives us the best instantaneous selectivity. Let's look at how to size that reactor, and what the conversion would be.\n",
    "\n",
    "The relevant design equation:\n",
    "\n",
    "$$V=\\frac{v_0(C_{A0}-C_A)}{-r_A}$$\n",
    "\n",
    "We are given $v_0$ and $C_{A0}$ as 2 L/s and 0.4M, respectively"
   ]
  },
  {
   "cell_type": "code",
   "execution_count": null,
   "metadata": {},
   "outputs": [],
   "source": [
    "v0 = 2. #L/s\n",
    "C_inlet = [0.4, 0, 0, 0]"
   ]
  },
  {
   "cell_type": "code",
   "execution_count": 24,
   "metadata": {},
   "outputs": [
    {
     "name": "stdout",
     "output_type": "stream",
     "text": [
      "For CA0 = 0.40, CA = 0.110M, V = 1603 L, X = 0.73, and S = 0.838\n",
      "For CA0 = 0.40, CA = 0.040M, V = 4167 L, X = 0.90, and S = 0.532\n",
      "For CA0 = 0.40, CA = 0.010M, V = 6736 L, X = 0.97, and S = 0.149\n",
      "For CA0 = 0.40, CA = 0.200M, V = 556 L, X = 0.50, and S = 0.714\n"
     ]
    },
    {
     "data": {
      "text/plain": [
       "(0.2, 0.027777777777777773, 0.08333333333333331, 0.08888888888888889)"
      ]
     },
     "execution_count": 24,
     "metadata": {},
     "output_type": "execute_result"
    }
   ],
   "source": [
    "def CSTR(CA, C0): #Take a target concentration of A and initial concentrations and return the necessary volume for that CSTR, the conversion, and the overall selectivity\n",
    "    CA0, CX0, CB0, CY0 = C0\n",
    "    rA = k1+k2*CA+k3*CA**2 #negative rA\n",
    "    V = v0*(CA0-CA)/rA\n",
    "    X = (CA0-CA)/CA0\n",
    "    CX = (v0*CX0+V*k1)/v0\n",
    "    CB = (v0*CB0+V*k2*CA)/v0\n",
    "    CY = (v0*CY0+V*k3*CA**2)/v0\n",
    "    S_tilde = CB/(CX+CY)\n",
    "    print(f'For CA0 = {CA0:.2f}, CA = {CA:.3f}M, V = {V:.0f} L, X = {X:.2f}, and S = {S_tilde:.3f}')\n",
    "    return CA, CX, CB, CY\n",
    "\n",
    "CSTR(0.11, C_inlet)\n",
    "CSTR(0.04, C_inlet)\n",
    "CSTR(0.01, C_inlet)\n",
    "CSTR(0.2, C_inlet)"
   ]
  },
  {
   "cell_type": "markdown",
   "metadata": {},
   "source": [
    "We can see that the conversion that produces optimal selectivity is 0.73. If we push beyond that in the CSTR, the selectivity drops, because the entire system is running at at the lower concentration of CA, which produces suboptimal selectivity. So, what if we really wanted higher conversion than 0.73 (e.g. final CA of 0.01), but wanted to keep selectivity as high as possible? Once the concentration drops below the optimal (0.11M), it is best to keep it as high as possible. Let's try a second CSTR"
   ]
  },
  {
   "cell_type": "code",
   "execution_count": 25,
   "metadata": {
    "scrolled": false
   },
   "outputs": [
    {
     "name": "stdout",
     "output_type": "stream",
     "text": [
      "For CA0 = 0.40, CA = 0.040M, V = 4167 L, X = 0.90, and S = 0.532\n"
     ]
    },
    {
     "data": {
      "text/plain": [
       "(0.04, 0.20833333333333337, 0.12500000000000003, 0.02666666666666667)"
      ]
     },
     "execution_count": 25,
     "metadata": {},
     "output_type": "execute_result"
    }
   ],
   "source": [
    "CSTR(0.04, C_inlet)"
   ]
  },
  {
   "cell_type": "code",
   "execution_count": 26,
   "metadata": {},
   "outputs": [
    {
     "name": "stdout",
     "output_type": "stream",
     "text": [
      "For CA0 = 0.40, CA = 0.110M, V = 1603 L, X = 0.73, and S = 0.838\n",
      "For CA0 = 0.11, CA = 0.040M, V = 810 L, X = 0.64, and S = 0.770\n"
     ]
    },
    {
     "data": {
      "text/plain": [
       "(0.04, 0.12066404090657823, 0.15656094527363185, 0.08277501381978994)"
      ]
     },
     "execution_count": 26,
     "metadata": {},
     "output_type": "execute_result"
    }
   ],
   "source": [
    "CSTR(0.04, CSTR(0.11, C_inlet))"
   ]
  },
  {
   "cell_type": "markdown",
   "metadata": {},
   "source": [
    "We see the an increase in overall selectivity (0.77 vs 0.532), and it now takes us less total reactor volume to get there. How about instead we had used a **PFR** to further convert the effluent from the CSTR?"
   ]
  },
  {
   "cell_type": "code",
   "execution_count": null,
   "metadata": {},
   "outputs": [],
   "source": [
    "from scipy.integrate import odeint"
   ]
  },
  {
   "cell_type": "code",
   "execution_count": null,
   "metadata": {},
   "outputs": [],
   "source": [
    "def deriv(C, V):\n",
    "    CA, CX, CB, CY = C\n",
    "    dCAdV = -(k1+k2*CA+k3*CA**2)/v0\n",
    "    dCXdV = k1/v0\n",
    "    dCBdV = k2*CA/v0\n",
    "    dCYdV = k3*CA**2/v0\n",
    "    return dCAdV, dCXdV, dCBdV, dCYdV"
   ]
  },
  {
   "cell_type": "code",
   "execution_count": null,
   "metadata": {},
   "outputs": [],
   "source": [
    "def PFR(C_in, CA_target): #Take input concentrations of A, B, X, and Y, and calculate outputs, for a target output concentrations\n",
    "    V_range = np.linspace(0, 1500, 100)\n",
    "    sol = np.asarray(odeint(func = deriv, y0 = C_in, t = V_range)) #Integrate PFR mole balance\n",
    "    \n",
    "    #PLot PFR trajectory\n",
    "    labels = ['CA', 'CX', 'CB', 'CY']\n",
    "    plt.figure()\n",
    "    for col in range(sol.shape[1]): \n",
    "        plt.plot(V_range, sol[:,col], label=labels[col])\n",
    "    plt.legend()\n",
    "    plt.xlabel('V (L)')\n",
    "    plt.ylabel('Concentration (M)')\n",
    "    \n",
    "    #Find the volume where CA = CA_target, and report the other species concentrations at that point\n",
    "    for i in range(len(sol[:,0])):\n",
    "        if sol[i,0] <= CA_target:\n",
    "            V = V_range[i]\n",
    "            CA, CX, CB, CY = sol[i,:]\n",
    "            break\n",
    "            \n",
    "    S_tilde = CB/(CX+CY)\n",
    "    print(f'For an inlet with CA = {float(C_in[0]):.2f} and target CA of {CA_target:.2f}, S = {S_tilde:.2f}')\n",
    "    return V, CA, CX, CB, CY\n",
    "    "
   ]
  },
  {
   "cell_type": "code",
   "execution_count": 27,
   "metadata": {},
   "outputs": [
    {
     "name": "stdout",
     "output_type": "stream",
     "text": [
      "For CA0 = 0.40, CA = 0.110M, V = 1603 L, X = 0.73, and S = 0.838\n",
      "For an inlet with CA = 0.11 and target CA of 0.04, S = 0.82\n"
     ]
    },
    {
     "data": {
      "text/plain": [
       "(575.7575757575758,\n",
       " 0.03879164594148782,\n",
       " 0.10894266043519772,\n",
       " 0.16245673680240155,\n",
       " 0.0898089568209129)"
      ]
     },
     "execution_count": 27,
     "metadata": {},
     "output_type": "execute_result"
    },
    {
     "data": {
      "image/png": "[encoded data removed]",
      "text/plain": [
       "<Figure size 432x288 with 1 Axes>"
      ]
     },
     "metadata": {
      "needs_background": "light"
     },
     "output_type": "display_data"
    }
   ],
   "source": [
    "##Run the CSTR to optimal conversion, then feed to a PFR\n",
    "C_in = CSTR(0.11, C_inlet)\n",
    "PFR(C_in, 0.04)"
   ]
  },
  {
   "cell_type": "markdown",
   "metadata": {},
   "source": [
    "So, by using a PFR downstream of the CSTR sized to produce optimal selectivity, we can get a total conversion of 0.9 with a selectivity of **0.82**. What if we'd just used one PFR?"
   ]
  },
  {
   "cell_type": "code",
   "execution_count": 28,
   "metadata": {
    "scrolled": false
   },
   "outputs": [
    {
     "name": "stdout",
     "output_type": "stream",
     "text": [
      "For an inlet with CA = 0.40 and target CA of 0.04, S = 0.64\n"
     ]
    },
    {
     "data": {
      "text/plain": [
       "(1257.5757575757577,\n",
       " 0.03936184831428717,\n",
       " 0.06287878787878787,\n",
       " 0.14094849700262743,\n",
       " 0.1568108668042974)"
      ]
     },
     "execution_count": 28,
     "metadata": {},
     "output_type": "execute_result"
    },
    {
     "data": {
      "image/png": "[encoded data removed]",
      "text/plain": [
       "<Figure size 432x288 with 1 Axes>"
      ]
     },
     "metadata": {
      "needs_background": "light"
     },
     "output_type": "display_data"
    }
   ],
   "source": [
    "PFR(C_inlet, 0.04)"
   ]
  },
  {
   "cell_type": "markdown",
   "metadata": {},
   "source": [
    "This case gives us an overall selectivity of 0.64\n",
    "\n",
    "Comparing all three results for X = 0.9:\n",
    "* One CSTR: $\\tilde{S} = 0.532$\n",
    "* One PFR: $\\tilde{S} = 0.64$\n",
    "* Two CSTRs, the first designed for optimal selectivity, the second for conversion to 0.9: $\\tilde{S} = 0.77$\n",
    "* A CSTR (designed for optimal selectivity), then a PFR: $\\tilde{S} = 0.82$\n",
    "\n",
    "All of this can be predicted from the initial plot of instantaneous selectivity vs $C_A$. Conversion is represented by moving from *right to left* (concentratino of A goes down over the course of reaction). In the upward-sloping part of the curve, selecitivy is low at high concentration, and high at low concentration. So, it makes sense to use a CSTR, because CA is instantly diluted to the exit concentration. If we had used a PFR instead, the high concentration would have led to a faster generation of Y (since it's second order). \n",
    "\n",
    "For the downward sloping part of hte curve, now the situation is reversed, and selectivity is maximized at high concentration. So, it makes sense to use a PFR for this portion to keep the concentration of CA high in the early part of the reactor."
   ]
  },
  {
   "cell_type": "code",
   "execution_count": null,
   "metadata": {},
   "outputs": [],
   "source": []
  }
 ],
 "metadata": {
  "kernelspec": {
   "display_name": "Python 3",
   "language": "python",
   "name": "python3"
  },
  "language_info": {
   "codemirror_mode": {
    "name": "ipython",
    "version": 3
   },
   "file_extension": ".py",
   "mimetype": "text/x-python",
   "name": "python",
   "nbconvert_exporter": "python",
   "pygments_lexer": "ipython3",
   "version": "3.7.4"
  }
 },
 "nbformat": 4,
 "nbformat_minor": 2
}
