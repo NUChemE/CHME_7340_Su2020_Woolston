{
 "cells": [
  {
   "cell_type": "markdown",
   "metadata": {},
   "source": [
    "# Lecture 13 - Optimization\n",
    "### This notebook walks through the steps of finding an optimum reactant concentration that maximizes instantaneous specificity to a desired product in a network of competing reactions\n",
    "\n",
    "We focus our discussion around the Trambouze reaction network\n",
    "1. A --> X (0 order in A) k1 = 0.0001 mol/L-s\n",
    "2.  A --> B (1st order in A) k2 = 0.0015 1/s\n",
    "3.  A --> Y (2nd order in A) k3 = 0.008 (L/mol-s)^2\n",
    "\n",
    "B is the desired product, and we wish to know what concentration of A maximizes the instantaneous selectivity, defined as:\n",
    "\n",
    "$$\\frac{r_2}{r_1+r_3}$$\n",
    "\n",
    "where i refers to the reaction number. Earlier in class we derived an analytical solution to this problem by writing the rate equation for each reaction, using that to write an expression for the selectivity, and finding the maximum by setting the derivative equal to 0 and solving for the associated $C_A$. Because not all problems of this nature will have a nice analytical solution, here we will use numerical optimization using the scipy.optimize package to find that same $C_A$."
   ]
  },
  {
   "cell_type": "code",
   "execution_count": 2,
   "metadata": {},
   "outputs": [],
   "source": [
    "import numpy as np\n",
    "from matplotlib import pyplot as plt\n",
    "from scipy.optimize import minimize_scalar #There are two commonly used optimization functions, depending whether your function of inters returns a scalar or a vector.\n",
    "from scipy.optimize import minimize\n",
    "%matplotlib inline"
   ]
  },
  {
   "cell_type": "code",
   "execution_count": 3,
   "metadata": {},
   "outputs": [],
   "source": [
    "T0 = 300 #K\n",
    "k1 = 0.0001\n",
    "k2 = 0.0015\n",
    "k3 = 0.008"
   ]
  },
  {
   "cell_type": "markdown",
   "metadata": {},
   "source": [
    "#### Define function to calculate selectivity"
   ]
  },
  {
   "cell_type": "code",
   "execution_count": 4,
   "metadata": {},
   "outputs": [],
   "source": [
    "#Define a function that returns the selectivity for a given CA\n",
    "def trambouze_selectivity(CA, k1, k2, k3):\n",
    "    C = np.array([CA, CA, CA])\n",
    "    k = np.array([k1, k2, k3])\n",
    "    order = np.array([0, 1, 2])\n",
    "    rate = k*C**order #Calculate the rates in an array\n",
    "    selectivity = rate[1]/(rate[0]+rate[2])  #Definition of instantaneous selectivity\n",
    "    return -1*selectivity #Here we are returning -1*selectivity, since minimizing the negative is the same as maximizing the positive"
   ]
  },
  {
   "cell_type": "code",
   "execution_count": 5,
   "metadata": {},
   "outputs": [
    {
     "data": {
      "text/plain": [
       "-0.7142857142857142"
      ]
     },
     "execution_count": 5,
     "metadata": {},
     "output_type": "execute_result"
    }
   ],
   "source": [
    "#Test the function\n",
    "trambouze_selectivity(0.2, k1, k2, k3)"
   ]
  },
  {
   "cell_type": "markdown",
   "metadata": {},
   "source": [
    "#### Plot selectivity over a reasonable range of concentrations"
   ]
  },
  {
   "cell_type": "code",
   "execution_count": 6,
   "metadata": {},
   "outputs": [
    {
     "data": {
      "text/plain": [
       "Text(0, 0.5, 'Selectivity')"
      ]
     },
     "execution_count": 6,
     "metadata": {},
     "output_type": "execute_result"
    },
    {
     "data": {
      "image/png": "[encoded data removed]",
      "text/plain": [
       "<Figure size 432x288 with 1 Axes>"
      ]
     },
     "metadata": {
      "needs_background": "light"
     },
     "output_type": "display_data"
    }
   ],
   "source": [
    "#Plot selectivity vs CA over a reasonable range\n",
    "CA_range = np.linspace(0, 0.5, 50)\n",
    "selectivity = np.zeros(len(CA_range))\n",
    "#Use a for loop to calculate the selectivity at each CA in CA_range (this could probably be vectorized, but this is OK for now)\n",
    "for i in range(len(CA_range)):\n",
    "        selectivity[i] = trambouze_selectivity(CA_range[i], k1, k2, k3)\n",
    " \n",
    "#Plot the results\n",
    "plt.plot(CA_range, -1*selectivity)\n",
    "plt.xlabel(r'$C_A$ (M)')\n",
    "plt.ylabel('Selectivity')"
   ]
  },
  {
   "cell_type": "markdown",
   "metadata": {},
   "source": [
    "#### Use minimize_scalar from scipy.optimize to find the value of CA that minimizes our function\n",
    "Additional documentation: https://docs.scipy.org/doc/scipy/reference/generated/scipy.optimize.minimize_scalar.html"
   ]
  },
  {
   "cell_type": "code",
   "execution_count": 7,
   "metadata": {},
   "outputs": [],
   "source": [
    "#Here we call the function minimize_scalar, which at a minimum requries the function to be minized.\n",
    "#It can also take additional arguments, such as an initial guess, and a tuple of arguments to pass to the function\n",
    "CA_opt = minimize_scalar(trambouze_selectivity, args = (k1, k2, k3))"
   ]
  },
  {
   "cell_type": "code",
   "execution_count": 8,
   "metadata": {
    "scrolled": true
   },
   "outputs": [
    {
     "data": {
      "text/plain": [
       "     fun: -0.8385254915624211\n",
       "    nfev: 21\n",
       "     nit: 17\n",
       " success: True\n",
       "       x: 0.11180339703401788"
      ]
     },
     "execution_count": 8,
     "metadata": {},
     "output_type": "execute_result"
    }
   ],
   "source": [
    "#THe object returned, CA_opt, deserves some attention\n",
    "CA_opt"
   ]
  },
  {
   "cell_type": "code",
   "execution_count": 9,
   "metadata": {
    "scrolled": true
   },
   "outputs": [
    {
     "data": {
      "text/plain": [
       "0.11180339703401788"
      ]
     },
     "execution_count": 9,
     "metadata": {},
     "output_type": "execute_result"
    }
   ],
   "source": [
    "#To extract the optimum x value\n",
    "CA_opt.x"
   ]
  },
  {
   "cell_type": "code",
   "execution_count": 10,
   "metadata": {},
   "outputs": [
    {
     "data": {
      "text/plain": [
       "-0.8385254915624211"
      ]
     },
     "execution_count": 10,
     "metadata": {},
     "output_type": "execute_result"
    }
   ],
   "source": [
    "#To extract the value of the functino at that point\n",
    "CA_opt.fun"
   ]
  },
  {
   "cell_type": "code",
   "execution_count": 11,
   "metadata": {
    "scrolled": true
   },
   "outputs": [
    {
     "data": {
      "text/plain": [
       "<matplotlib.collections.PathCollection at 0x17ee2e19248>"
      ]
     },
     "execution_count": 11,
     "metadata": {},
     "output_type": "execute_result"
    },
    {
     "data": {
      "image/png": "[encoded data removed]",
      "text/plain": [
       "<Figure size 432x288 with 1 Axes>"
      ]
     },
     "metadata": {
      "needs_background": "light"
     },
     "output_type": "display_data"
    }
   ],
   "source": [
    "#Use these to overlay our optimum on the plot\n",
    "\n",
    "#Plot hte originla data\n",
    "plt.plot(CA_range, -1*selectivity)\n",
    "\n",
    "#Overlay\n",
    "plt.scatter(CA_opt.x, -1*CA_opt.fun, color = 'k')"
   ]
  },
  {
   "cell_type": "markdown",
   "metadata": {},
   "source": [
    "We could also have use the vectorized version of the function. It's a little silly in this example because we're only optimizing one variable (CA), but in cases where you want to SIMULTANEOUSLY optimize multiple parameters - e.g. let's say you had a rate law that depended on CA and CB - this form will allow you to do that by passsing them in as a vector [CA, CB]"
   ]
  },
  {
   "cell_type": "code",
   "execution_count": 12,
   "metadata": {},
   "outputs": [],
   "source": [
    "#Define a function that returns the selectivity for a given CA\n",
    "#Note we've also defined hte ability to take CB, even though it's not actually used here, for demonstration purposes.\n",
    "def selectivity_vector(C, k1, k2, k3):\n",
    "    CA = C[0]\n",
    "    CB = C[1]\n",
    "    selectivity = k2*CA/(k1+k3*CA**2)  #Definition of instantaneous selectivity\n",
    "    return -1*selectivity #Here we are returning -1*selectivity, since minimizing the negative is the same as maximizing the positive"
   ]
  },
  {
   "cell_type": "code",
   "execution_count": 13,
   "metadata": {},
   "outputs": [],
   "source": [
    "#Here we call the function minimize_scalar, which at a minimum requries the function to be minized.\n",
    "#It can also take additional arguments, such as an initial guess, and a tuple of arguments to pass to the function\n",
    "CA_opt_vector = minimize(selectivity_vector, x0 = [0.2, 0.1], args = (k1, k2, k3))"
   ]
  },
  {
   "cell_type": "code",
   "execution_count": 14,
   "metadata": {},
   "outputs": [
    {
     "data": {
      "text/plain": [
       "      fun: -0.8385254915624178\n",
       " hess_inv: array([[0.01492646, 0.        ],\n",
       "       [0.        , 1.        ]])\n",
       "      jac: array([-1.56462193e-07,  0.00000000e+00])\n",
       "  message: 'Optimization terminated successfully.'\n",
       "     nfev: 40\n",
       "      nit: 6\n",
       "     njev: 10\n",
       "   status: 0\n",
       "  success: True\n",
       "        x: array([0.11180339, 0.1       ])"
      ]
     },
     "execution_count": 14,
     "metadata": {},
     "output_type": "execute_result"
    }
   ],
   "source": [
    "CA_opt_vector"
   ]
  },
  {
   "cell_type": "code",
   "execution_count": null,
   "metadata": {},
   "outputs": [],
   "source": []
  },
  {
   "cell_type": "code",
   "execution_count": null,
   "metadata": {},
   "outputs": [],
   "source": []
  }
 ],
 "metadata": {
  "kernelspec": {
   "display_name": "Python 3",
   "language": "python",
   "name": "python3"
  },
  "language_info": {
   "codemirror_mode": {
    "name": "ipython",
    "version": 3
   },
   "file_extension": ".py",
   "mimetype": "text/x-python",
   "name": "python",
   "nbconvert_exporter": "python",
   "pygments_lexer": "ipython3",
   "version": "3.7.6"
  }
 },
 "nbformat": 4,
 "nbformat_minor": 2
}
