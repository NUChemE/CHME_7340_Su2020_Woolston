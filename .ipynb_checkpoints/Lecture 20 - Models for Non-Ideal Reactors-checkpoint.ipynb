{
 "cells": [
  {
   "cell_type": "code",
   "execution_count": null,
   "metadata": {},
   "outputs": [],
   "source": [
    "import numpy as np\n",
    "import math #For the factorial\n",
    "from scipy.integrate import odeint\n",
    "from scipy.optimize import root\n",
    "from matplotlib import pyplot as plt\n",
    "%matplotlib inline"
   ]
  },
  {
   "cell_type": "code",
   "execution_count": null,
   "metadata": {},
   "outputs": [],
   "source": [
    "#Plot RTD for tanks in series for dimensionless time\n",
    "Theta = np.linspace(0, 3, 100)\n",
    "tanks = np.array([2, 4, 10, 100])\n",
    "for n in tanks:\n",
    "    E = n*(n*Theta)**(n-1)/math.factorial(n-1)*np.exp(-n*Theta)\n",
    "    plt.plot(Theta, E, label = 'n = '+str(n))\n",
    "plt.legend()\n",
    "plt.xlabel(r'$\\Theta$')\n",
    "plt.ylabel(r'$E(\\Theta)$')\n",
    "plt.title('RTD for T-I-S for different numbers of tanks')\n",
    "tanks.dtype"
   ]
  },
  {
   "cell_type": "code",
   "execution_count": null,
   "metadata": {},
   "outputs": [],
   "source": [
    "#Plot conversion vs number of tanks for first order reaction\n",
    "n = np.linspace(0, 20, 100)\n",
    "Da = np.array([0.1, 1, 10])\n",
    "for i in Da:\n",
    "    X = 1-1/(1+i)**n\n",
    "    plt.plot(n, X, label = 'Da = '+str(i))\n",
    "plt.legend()\n",
    "plt.xlabel('n')\n",
    "plt.ylabel('X')"
   ]
  },
  {
   "cell_type": "markdown",
   "metadata": {},
   "source": [
    "## Example Problem 18-1\n",
    "Also includes solution by segregation model and maximum mixedness"
   ]
  },
  {
   "cell_type": "code",
   "execution_count": null,
   "metadata": {},
   "outputs": [],
   "source": [
    "#Import reactor data\n",
    "D = 0.1 #m, diameter\n",
    "L = 6.36 #m, length\n",
    "V = D**2*L*np.pi/4*1000. #volume, L\n",
    "k = 0.25 #1/min, rate constant\n",
    "#print(V)"
   ]
  },
  {
   "cell_type": "markdown",
   "metadata": {},
   "source": [
    "### First fit polynomials to the measured RTD so that we can calculate E(t) and F(t)"
   ]
  },
  {
   "cell_type": "code",
   "execution_count": null,
   "metadata": {
    "scrolled": false
   },
   "outputs": [],
   "source": [
    "t_tracer = np.array([0, 1, 2, 3, 4, 5, 6, 7, 8, 9, 10, 12, 14])\n",
    "C_tracer = np.array([0, 1, 5, 8, 10, 8, 6, 4, 3, 2.2, 1.5, 0.6, 0])\n",
    "A = 51.1 #area under C-curve (From Fogler, Chapter 16)\n",
    "E_tracer = C_tracer/A\n",
    "plt.plot(t_tracer, E_tracer, label = 'Experimental Data', marker = 'o')\n",
    "plt.xlabel('Time (min)')\n",
    "plt.ylabel('C (mg/L)')\n",
    "plt.title('RTD from Tracer Pulse Experiment')"
   ]
  },
  {
   "cell_type": "code",
   "execution_count": null,
   "metadata": {},
   "outputs": [],
   "source": [
    "split_point = 5\n",
    "p1 = np.poly1d(np.polyfit(t_tracer[0:split_point], E_tracer[0:split_point], deg = 3))\n",
    "p2 = np.poly1d(np.polyfit(t_tracer[split_point:], E_tracer[split_point:], deg = 3))"
   ]
  },
  {
   "cell_type": "code",
   "execution_count": null,
   "metadata": {},
   "outputs": [],
   "source": [
    "def polynomial_fit(t):\n",
    "    E_fitted = np.zeros(len(t))\n",
    "    \n",
    "    for i in range(len(t)):\n",
    "        if t[i] < t_tracer[split_point]:\n",
    "            E_fitted[i] = p1(t[i])\n",
    "        elif t[i] >= max(t_tracer):\n",
    "            E_fitted[i] = 0\n",
    "        else:\n",
    "            E_fitted[i] = p2(t[i])\n",
    "            #Check that E is not negative\n",
    "        E_fitted[i] = max(E_fitted[i], 0)    \n",
    "\n",
    "    return E_fitted"
   ]
  },
  {
   "cell_type": "code",
   "execution_count": null,
   "metadata": {},
   "outputs": [],
   "source": [
    "polynomial_fit([13.99])\n",
    "#max(polynomial_fit([13.99]), 0)"
   ]
  },
  {
   "cell_type": "code",
   "execution_count": null,
   "metadata": {},
   "outputs": [],
   "source": [
    "E_fitted = polynomial_fit(t_range)\n",
    "plt.plot(t_tracer, E_tracer, label = 'Experimental Data', marker = 'o')\n",
    "plt.plot(t_range, E_fitted, label = 'Fitted Data')\n",
    "plt.legend()\n",
    "plt.xlabel('Time (min)')\n",
    "plt.ylabel('C (mg/L)')\n",
    "plt.title('RTD from Tracer Pulse Experiment')"
   ]
  },
  {
   "cell_type": "markdown",
   "metadata": {},
   "source": [
    "Now that we have a fit, calculate $\\tau$ and $\\sigma^2$\n",
    "\n",
    "$$\\tau = \\int_{0}^{\\infty}tE(t)dt$$\n",
    "$$\\sigma^2 = \\int_{0}^{\\infty}(t-\\tau)^2E(t)dt$$"
   ]
  },
  {
   "cell_type": "code",
   "execution_count": null,
   "metadata": {},
   "outputs": [],
   "source": [
    "#Calculate tau\n",
    "def tau_deriv(E, t):\n",
    "    dtaudt = t*polynomial_fit([t]) \n",
    "    return dtaudt"
   ]
  },
  {
   "cell_type": "code",
   "execution_count": null,
   "metadata": {},
   "outputs": [],
   "source": [
    "tau_sol = odeint(tau_deriv, 0, t_range)\n",
    "plt.plot(t_range, tau_sol)\n",
    "tau = float(max(tau_sol))\n",
    "print(f'tau = {tau:.3f}')"
   ]
  },
  {
   "cell_type": "code",
   "execution_count": null,
   "metadata": {},
   "outputs": [],
   "source": [
    "#Calculate sigma^2\n",
    "def ss_deriv(E, t):\n",
    "    dssdt = (t-tau)**2*polynomial_fit([t]) \n",
    "    return dssdt"
   ]
  },
  {
   "cell_type": "code",
   "execution_count": null,
   "metadata": {},
   "outputs": [],
   "source": [
    "ss_sol = odeint(ss_deriv, 0, t_range)\n",
    "plt.plot(t_range, ss_sol)\n",
    "ss = float(max(ss_sol))\n",
    "print(f'sigma^2 = {ss:.3f}')"
   ]
  },
  {
   "cell_type": "markdown",
   "metadata": {},
   "source": [
    "Calculate Peclet number from\n",
    "\n",
    "$$\\frac{\\sigma^2}{\\tau^2}=\\frac{2}{Pe}-\\frac{2}{Pe^2}(1-e^{-Pe})$$\n",
    "\n",
    "using a nonlinear equation solver (root). This alogrithm uses optimization to find the roots of a function, so the implement this we define a peclet function as:\n",
    "\n",
    "$$0=\\frac{2}{Pe}-\\frac{2}{Pe^2}(1-e^{-Pe})-\\frac{\\sigma^2}{\\tau^2}$$"
   ]
  },
  {
   "cell_type": "code",
   "execution_count": null,
   "metadata": {},
   "outputs": [],
   "source": [
    "def peclet(Pe, ss, tau):\n",
    "    y =  2/Pe - 2/Pe**2*(1-np.exp(-1*Pe))  -ss/tau**2\n",
    "    return y"
   ]
  },
  {
   "cell_type": "code",
   "execution_count": null,
   "metadata": {},
   "outputs": [],
   "source": [
    "Pe_sol =root(peclet, 10, args = (ss, tau))\n",
    "Pe = float(Pe_sol.x)\n",
    "print(f'Pe = {float(Pe):.3f}')\n",
    "print(peclet(Pe, ss, tau))"
   ]
  },
  {
   "cell_type": "code",
   "execution_count": null,
   "metadata": {},
   "outputs": [],
   "source": [
    "Da = tau*k\n",
    "print(f'Da = {Da:.3f}')"
   ]
  },
  {
   "cell_type": "code",
   "execution_count": null,
   "metadata": {},
   "outputs": [],
   "source": [
    "q = (1+4*Da/Pe)**0.5\n",
    "print(f'q = {q:.3f}')"
   ]
  },
  {
   "cell_type": "code",
   "execution_count": null,
   "metadata": {},
   "outputs": [],
   "source": [
    "def conversion(Pe, q):\n",
    "    X = 1- 4*q*np.exp(Pe/2)/((1+q)**2*np.exp(Pe*q/2)-(1-q)**2*np.exp(-Pe*q/2))\n",
    "    return X"
   ]
  },
  {
   "cell_type": "code",
   "execution_count": null,
   "metadata": {},
   "outputs": [],
   "source": [
    "X_dispersion = conversion(Pe, q)\n",
    "print(f'X from the dispersion model is {X_dispersion:.3f}')"
   ]
  },
  {
   "cell_type": "code",
   "execution_count": null,
   "metadata": {},
   "outputs": [],
   "source": [
    "X_PFR = 1-np.exp(-Da)\n",
    "print(f'X from the PFR model is {X_PFR:.3f}')"
   ]
  },
  {
   "cell_type": "markdown",
   "metadata": {},
   "source": [
    "### Tanks-In-Series"
   ]
  },
  {
   "cell_type": "code",
   "execution_count": null,
   "metadata": {},
   "outputs": [],
   "source": [
    "n = tau**2/ss\n",
    "print(n)"
   ]
  },
  {
   "cell_type": "markdown",
   "metadata": {},
   "source": [
    "Note that, for first order, n doesn't have to be an integer!\n",
    "Conversion for TIS is:\n",
    "$$X = 1 - \\frac{1}{(1+\\tau_ik)^n}=1 - \\frac{1}{(1+\\frac{\\tau}{n}k)^n}$$"
   ]
  },
  {
   "cell_type": "code",
   "execution_count": null,
   "metadata": {},
   "outputs": [],
   "source": [
    "X_TIS = 1 - 1/(1+tau/n*k)**n\n",
    "print(f'X from the TIS model is {X_TIS:.3f}')"
   ]
  },
  {
   "cell_type": "markdown",
   "metadata": {},
   "source": [
    "How does the RTD look for T-I-S versus the actual?"
   ]
  },
  {
   "cell_type": "code",
   "execution_count": null,
   "metadata": {},
   "outputs": [],
   "source": [
    "tau_i = tau/n\n",
    "E_TIS = t_range**(n-1)/(math.gamma(n)*tau_i**n)*np.exp(-t_range/tau_i)\n",
    "#note that the factorial fucntion can onyl handle integers, whereas gamma can handle nonintegers, and (n-1)! = gamma(n)\n",
    "plt.plot(t_range, E_TIS, label = 'TIS')\n",
    "plt.plot(t_tracer, E_tracer, label = 'Experimental Data')\n",
    "plt.legend()\n",
    "plt.xlabel('Time (min)')\n",
    "plt.ylabel('E(t)')"
   ]
  },
  {
   "cell_type": "markdown",
   "metadata": {},
   "source": [
    "### Single CSTR"
   ]
  },
  {
   "cell_type": "code",
   "execution_count": null,
   "metadata": {},
   "outputs": [],
   "source": [
    "X_CSTR = Da/(1+Da)\n",
    "print(f'X from a single CSTR is {X_CSTR:.3f}')"
   ]
  },
  {
   "cell_type": "code",
   "execution_count": null,
   "metadata": {},
   "outputs": [],
   "source": [
    "#How does hte RTD for a CSTR compare?\n",
    "E_CSTR = np.exp(-t_range/tau)/tau\n",
    "plt.plot(t_range, E_CSTR, label = 'CSTR')\n",
    "plt.plot(t_tracer, E_tracer, label = 'Experimental Data')\n",
    "plt.legend()\n",
    "plt.xlabel('Time (min)')\n",
    "plt.ylabel('E(t)')"
   ]
  },
  {
   "cell_type": "markdown",
   "metadata": {},
   "source": [
    "### Segregation Model"
   ]
  },
  {
   "cell_type": "code",
   "execution_count": null,
   "metadata": {},
   "outputs": [],
   "source": [
    "def dXbardt(X, t):\n",
    "    dXbardt = (1-np.exp(-t*k))*polynomial_fit([t])\n",
    "    return dXbardt"
   ]
  },
  {
   "cell_type": "code",
   "execution_count": null,
   "metadata": {},
   "outputs": [],
   "source": [
    "X_bar_sol = odeint(dXbardt, 0, t_range)\n",
    "plt.plot(t_range, X_bar_sol)\n",
    "X_seg = float(max(X_bar_sol))\n",
    "print(f'X from segregation model is {X_seg:.3f}')"
   ]
  },
  {
   "cell_type": "markdown",
   "metadata": {},
   "source": [
    "### Maximum Mixedness\n",
    "\n",
    "$$\\frac{dX}{dz} = -\\frac{r_A}{C_{A0}}-\\frac{E(\\bar T-z)}{1-F(\\bar T-z)}X$$\n",
    "\n",
    "We need F(t), which is defined as\n",
    "\n",
    "$$F(t) = \\int_{0}^{t}E(t)dt$$"
   ]
  },
  {
   "cell_type": "code",
   "execution_count": null,
   "metadata": {},
   "outputs": [],
   "source": [
    "def F_deriv(E, t):\n",
    "    dFdt = polynomial_fit([t])\n",
    "    return dFdt\n",
    "\n",
    "def F(t):\n",
    "    F = float(max(odeint(F_deriv, 0, np.linspace(0, t, 100))))\n",
    "    return F\n",
    "\n",
    "#There are more efficient ways to do this, but this will do for now"
   ]
  },
  {
   "cell_type": "code",
   "execution_count": null,
   "metadata": {},
   "outputs": [],
   "source": [
    "Tbar = 13.7\n",
    "def MM(X,z):\n",
    "    y = Tbar-z\n",
    "    E = float(polynomial_fit([y]))\n",
    "    Ft = F(y)\n",
    "    dXdz = k*(1-X)-E*X/(1-Ft)\n",
    "    print(f'z={float(z):.6f}, E={float(E):.3f}, F={float(Ft):.3f}, X = {float(X):.3f}, dXdz={float(dXdz):.3f}')\n",
    "    return dXdz"
   ]
  },
  {
   "cell_type": "code",
   "execution_count": null,
   "metadata": {},
   "outputs": [],
   "source": [
    "z_range = np.linspace(0, Tbar, 500)\n",
    "sol2 = odeint(MM, 0, z_range, rtol = 1.0E-2, atol = 1.0E-2)#, h0 = 0.1, hmax = 0.2)\n",
    "plt.plot(z_range, sol2)\n",
    "print(max(sol2))"
   ]
  },
  {
   "cell_type": "code",
   "execution_count": null,
   "metadata": {},
   "outputs": [],
   "source": []
  }
 ],
 "metadata": {
  "kernelspec": {
   "display_name": "Python 3",
   "language": "python",
   "name": "python3"
  },
  "language_info": {
   "codemirror_mode": {
    "name": "ipython",
    "version": 3
   },
   "file_extension": ".py",
   "mimetype": "text/x-python",
   "name": "python",
   "nbconvert_exporter": "python",
   "pygments_lexer": "ipython3",
   "version": "3.7.4"
  }
 },
 "nbformat": 4,
 "nbformat_minor": 4
}
