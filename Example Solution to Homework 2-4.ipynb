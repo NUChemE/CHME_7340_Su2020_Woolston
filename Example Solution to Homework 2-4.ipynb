{
 "cells": [
  {
   "cell_type": "markdown",
   "metadata": {},
   "source": [
    "# Homework 2-4 Example Solution\n",
    "\n",
    "First, we import the packages we need:"
   ]
  },
  {
   "cell_type": "code",
   "execution_count": 12,
   "metadata": {},
   "outputs": [],
   "source": [
    "import numpy as np\n",
    "import matplotlib.pyplot as plt\n",
    "from scipy.integrate import odeint\n",
    "#from scipy.integrate import solve_ivp (If you wanted to use solve_ivp instead)\n",
    "%matplotlib inline"
   ]
  },
  {
   "cell_type": "code",
   "execution_count": 13,
   "metadata": {},
   "outputs": [],
   "source": [
    "FA0 = 0.1362 #mol/s\n",
    "k = 0.0074#*10.0/3.0 #mol/kg-s (k' in text)\n",
    "alpha = 0.0367#0.0367 #1/kg\n",
    "epsilon = -0.15"
   ]
  },
  {
   "cell_type": "markdown",
   "metadata": {},
   "source": [
    "Define a function that returns the relevant derivatives (dX/dW and dp/dW) given current values of the dependent (X,p) and indepdent (W) variables"
   ]
  },
  {
   "cell_type": "code",
   "execution_count": 14,
   "metadata": {},
   "outputs": [],
   "source": [
    "def deriv(current, W): #Note that we explicitly made this function of W, even though it is not used. This is required by the odeint\n",
    "    X = current[0]\n",
    "    p = current[1]\n",
    "    ra = -1.0*k*(1.0-X)/(1+epsilon*X)*p\n",
    "    dXdW = -ra/FA0\n",
    "    dpdW = -alpha*(1.0+epsilon*X)/(2.0*p)\n",
    "    return dXdW,dpdW"
   ]
  },
  {
   "cell_type": "markdown",
   "metadata": {},
   "source": [
    "Define the range of W over which we want to integrate, and the initial conditions"
   ]
  },
  {
   "cell_type": "code",
   "execution_count": 15,
   "metadata": {},
   "outputs": [],
   "source": [
    "W_range = np.linspace(0, 28, 50) #Based on problem statement (kg)\n",
    "X0 = 0.0 #No conversion at beginning of reactor\n",
    "p0 = 1.0 #Remember that p = P/P0\n",
    "init = [X0, p0] #Define a list of our initial conditions"
   ]
  },
  {
   "cell_type": "markdown",
   "metadata": {},
   "source": [
    "Now we call odeint to integrate our function."
   ]
  },
  {
   "cell_type": "code",
   "execution_count": 16,
   "metadata": {},
   "outputs": [],
   "source": [
    "#Now the magic: call odeint on our defined problem\n",
    "sol = odeint(deriv, init, W_range)"
   ]
  },
  {
   "cell_type": "markdown",
   "metadata": {},
   "source": [
    "## FIrst part - reproducing plots"
   ]
  },
  {
   "cell_type": "code",
   "execution_count": 17,
   "metadata": {},
   "outputs": [
    {
     "data": {
      "text/plain": [
       "Text(0, 0.5, '-rA')"
      ]
     },
     "execution_count": 17,
     "metadata": {},
     "output_type": "execute_result"
    },
    {
     "data": {
      "image/png": "[encoded data removed]",
      "text/plain": [
       "<Figure size 432x288 with 1 Axes>"
      ]
     },
     "metadata": {
      "needs_background": "light"
     },
     "output_type": "display_data"
    },
    {
     "data": {
      "image/png": "[encoded data removed]",
      "text/plain": [
       "<Figure size 432x288 with 1 Axes>"
      ]
     },
     "metadata": {
      "needs_background": "light"
     },
     "output_type": "display_data"
    }
   ],
   "source": [
    "X_odeint = sol[:,0]\n",
    "p_odeint = sol[:,1]\n",
    "v_odeint = 1/p_odeint*(1+epsilon*X_odeint)\n",
    "rate_odeint = 1.0*k*(1.0-X_odeint)/(1+epsilon*X_odeint)*p_odeint\n",
    "plt.figure()\n",
    "plt.plot(W_range, X_odeint, '*', label='X')\n",
    "plt.plot(W_range, p_odeint, '*', label='p (P/P0)')\n",
    "plt.plot(W_range, v_odeint, '*', label='v (v/v0)')\n",
    "#We'll show a faster way of doing the above four lines below\n",
    "plt.title(r'X, p, and $v/v_0$ vs W')\n",
    "plt.xlabel('W (kg)')\n",
    "plt.ylabel('p, X, or v')\n",
    "plt.legend()\n",
    "\n",
    "plt.figure()\n",
    "plt.plot(W_range, rate_odeint, '*')\n",
    "plt.title(r'$r_A$ vs W')\n",
    "plt.xlabel('W (kg)')\n",
    "plt.ylabel('-rA')"
   ]
  },
  {
   "cell_type": "markdown",
   "metadata": {},
   "source": [
    "## Reporting necessary weight of catalyst\n",
    "One very simple way of doing this is with the np.where() function, taking advantage of the fact that X is monotonically increasing over the length of the reactor"
   ]
  },
  {
   "cell_type": "code",
   "execution_count": 18,
   "metadata": {},
   "outputs": [
    {
     "name": "stdout",
     "output_type": "stream",
     "text": [
      "Conversion of  0.63  requires  [22.85714286]  kg catalyst\n",
      "Conversion of  0.9  is not possible in this reactor\n"
     ]
    }
   ],
   "source": [
    "def required_W(X_target):\n",
    "    \n",
    "    if X_target > max(X_odeint): #This conversion was not reached\n",
    "        print('Conversion of ', str(X_target), ' is not possible in this reactor')\n",
    "        return 0\n",
    "    else:\n",
    "    #Loop through X_odeint, search for first value above X_target, report its index, and return corresponding W\n",
    "        for i in X_odeint:\n",
    "            if i >= X_target:\n",
    "                needed_weight = W_range[np.where(X_odeint == i)]\n",
    "                print('Conversion of ', str(X_target), ' requires ', str(needed_weight), ' kg catalyst')\n",
    "                break\n",
    "        return needed_weight\n",
    "            \n",
    "needed_weight = required_W(0.63)\n",
    "needed_weight = required_W(0.9)"
   ]
  },
  {
   "cell_type": "markdown",
   "metadata": {},
   "source": [
    "## How initial pressure affects conversion\n",
    "The beauty of setting up this problem computationally is that we can very quickly and easily explore the effect of changing various parameters on the solution. Let's do that now, examining the impact of $P_0$. From lecture, recall that \n",
    "\n",
    "$$\\alpha \\propto \\frac{\\beta_0}{P_0}$$\n",
    "\n",
    "$\\beta_0$ is also an implicit function of $P_0$, because\n",
    "\n",
    "$$\\beta_0 \\propto \\frac{1}{\\rho_0}$$\n",
    "\n",
    "For simplicity, assume the ideal gas law such that $\\rho_0 \\propto P_0$. Therefore\n",
    "\n",
    "$$\\alpha \\propto \\frac{1}{P_0 ^2}$$\n",
    "\n",
    "So, all we need to do is slightly redefine our functions to let us easily manipulate alpha, and produce the necessary plots"
   ]
  },
  {
   "cell_type": "code",
   "execution_count": 19,
   "metadata": {},
   "outputs": [],
   "source": [
    "def deriv2(current, W, alpha_loc, epsilon_loc): #Redefining _loc as local version of the variables\n",
    "    X, p = current\n",
    "    ra = -1.0*k*(1.0-X)/(1+epsilon_loc*X)*p\n",
    "    #If pressure is below a threshold, no change in rest of reactor (as approximation and to stop the solver blowing up when P drops to 0)\n",
    "    threshold = 0.1 #atm\n",
    "    if p > threshold:\n",
    "        dXdW = -ra/FA0\n",
    "        dpdW = -alpha_loc*(1.0+epsilon_loc*X)/(2.0*p)\n",
    "    else:\n",
    "        dXdW = 0\n",
    "        dpdW = 0\n",
    "    return dXdW,dpdW"
   ]
  },
  {
   "cell_type": "code",
   "execution_count": 20,
   "metadata": {},
   "outputs": [
    {
     "name": "stdout",
     "output_type": "stream",
     "text": [
      "0.0\n",
      "0.5555555555555556\n",
      "1.1111111111111112\n",
      "1.6666666666666667\n",
      "2.2222222222222223\n",
      "2.7777777777777777\n",
      "3.3333333333333335\n",
      "3.8888888888888893\n",
      "4.444444444444445\n",
      "5.0\n"
     ]
    }
   ],
   "source": [
    "b_range = np.linspace(0, 5, 10)\n",
    "for i in b_range:\n",
    "    print(i)"
   ]
  },
  {
   "cell_type": "code",
   "execution_count": 24,
   "metadata": {},
   "outputs": [
    {
     "name": "stdout",
     "output_type": "stream",
     "text": [
      "[0. 0. 0. 0. 0. 0. 0. 0. 0. 0. 0. 0. 0. 0. 0.]\n",
      "[ 0.          0.          0.         21.60606061 20.21212121 19.51515152\n",
      " 19.05050505 18.58585859 18.35353535 18.12121212 17.88888889 17.65656566\n",
      " 17.65656566 17.42424242 17.42424242]\n",
      "[ 0.          0.          0.         21.60606061 20.21212121 19.51515152\n",
      " 19.05050505 18.58585859 18.35353535 18.12121212 17.88888889 17.65656566\n",
      " 17.65656566 17.42424242 17.42424242]\n"
     ]
    },
    {
     "data": {
      "image/png": "[encoded data removed]",
      "text/plain": [
       "<Figure size 432x288 with 1 Axes>"
      ]
     },
     "metadata": {
      "needs_background": "light"
     },
     "output_type": "display_data"
    },
    {
     "data": {
      "image/png": "[encoded data removed]",
      "text/plain": [
       "<Figure size 432x288 with 1 Axes>"
      ]
     },
     "metadata": {
      "needs_background": "light"
     },
     "output_type": "display_data"
    }
   ],
   "source": [
    "#A function to produce plots of X vs W for different values of alpha\n",
    "def vary_alpha(alpha_range, target): #feed a range of aphas, and a target conversion\n",
    "    needed_weight = [0]*alpha_range #Initial a list to store the necessary catalyst weights\n",
    "    print(needed_weight)\n",
    "    W_range_alpha_range = np.linspace(0, 23, 100)\n",
    "    for i in alpha_range: #For each alpha value, integrate the system, plot the results, and report W needed for target conversion\n",
    "        sol3 = odeint(deriv2, init, W_range_alpha_range, args=(i, epsilon)) #Solve using the new function\n",
    "        np_sol = np.asarray(sol3) #Convert to numpy array\n",
    "    \n",
    "        plt.figure(1) #Plot X vs W for each value of alpha (NOTE YOUR SOLUTION DOESN't HAVE TO DO THIS, BUT IT'S USEFUL TO SEE)\n",
    "        #for col in range(np_sol.shape[1]): \n",
    "        plt.plot(W_range_alpha_range, np_sol[:,0], label='X, alpha = '+str(i))\n",
    "        #plt.legend()\n",
    "        \n",
    "        #Return first point of W where X > 0.6, for plotting\n",
    "        X_sol = np_sol[:,0]\n",
    "        #print(X_sol)\n",
    "        for j in X_sol:\n",
    "            if j >= target:\n",
    "                needed_weight[np.where(alpha_range == i)] = W_range_alpha_range[np.where(X_sol == j)]\n",
    "                break\n",
    "    plt.plot([0, W_range_alpha_range[-1]], [target, target])\n",
    "    print(needed_weight)\n",
    "    return needed_weight\n",
    "\n",
    "#Problem statement asks to range pressure from 8-15 atm. Note that all this changes is P0, and alpha is proportional to the inverse of P0^2\n",
    "\n",
    "def plot_W_for_X(P0, target):\n",
    "    alpha_pressure = alpha*(10.0**2)/(P0**2)\n",
    "    needed_weight = vary_alpha(alpha_pressure, target)\n",
    "    print(needed_weight)\n",
    "    plt.figure(2)\n",
    "    plt.scatter(P0, needed_weight)\n",
    "    plt.xlabel('P0')\n",
    "    plt.ylabel('Catalyst Weight')\n",
    "\n",
    "P0 = np.linspace(8.0, 15.0, 15)\n",
    "plot_W_for_X(P0, 0.6)"
   ]
  },
  {
   "cell_type": "markdown",
   "metadata": {},
   "source": [
    "Notice that higher amounts of catalyst are needed at low pressures. The downside of this is, the more catalyst you have, the more pressure drop you have, such that you ultimately get to an untenable scenario where your incoming feed stream doesn't have sufficient driving force to get through the required length of reactor. You see this for the 9 atm case, where there was no feasible solution.\n",
    "\n",
    "I would argue that this reactor has been poorly designed! A variation of 10% in incoming pressure leads to a complete failure. Ideally you don't want your final pressure to be so low compared to the incoming pressure under normal operation. Design with some tolerance in mind"
   ]
  },
  {
   "cell_type": "code",
   "execution_count": null,
   "metadata": {},
   "outputs": [],
   "source": []
  }
 ],
 "metadata": {
  "kernelspec": {
   "display_name": "Python 3",
   "language": "python",
   "name": "python3"
  },
  "language_info": {
   "codemirror_mode": {
    "name": "ipython",
    "version": 3
   },
   "file_extension": ".py",
   "mimetype": "text/x-python",
   "name": "python",
   "nbconvert_exporter": "python",
   "pygments_lexer": "ipython3",
   "version": "3.7.4"
  }
 },
 "nbformat": 4,
 "nbformat_minor": 4
}
